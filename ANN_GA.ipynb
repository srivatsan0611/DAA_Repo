{
 "cells": [
  {
   "cell_type": "code",
   "execution_count": 1,
   "id": "3159de85",
   "metadata": {},
   "outputs": [
    {
     "data": {
      "text/html": [
       "<div>\n",
       "<style scoped>\n",
       "    .dataframe tbody tr th:only-of-type {\n",
       "        vertical-align: middle;\n",
       "    }\n",
       "\n",
       "    .dataframe tbody tr th {\n",
       "        vertical-align: top;\n",
       "    }\n",
       "\n",
       "    .dataframe thead th {\n",
       "        text-align: right;\n",
       "    }\n",
       "</style>\n",
       "<table border=\"1\" class=\"dataframe\">\n",
       "  <thead>\n",
       "    <tr style=\"text-align: right;\">\n",
       "      <th></th>\n",
       "      <th>ID</th>\n",
       "      <th>Age</th>\n",
       "      <th>Experience</th>\n",
       "      <th>Income</th>\n",
       "      <th>ZIP Code</th>\n",
       "      <th>Family</th>\n",
       "      <th>CCAvg</th>\n",
       "      <th>Education</th>\n",
       "      <th>Mortgage</th>\n",
       "      <th>Personal Loan</th>\n",
       "      <th>Securities Account</th>\n",
       "      <th>CD Account</th>\n",
       "      <th>Online</th>\n",
       "      <th>CreditCard</th>\n",
       "    </tr>\n",
       "  </thead>\n",
       "  <tbody>\n",
       "    <tr>\n",
       "      <th>0</th>\n",
       "      <td>1</td>\n",
       "      <td>25</td>\n",
       "      <td>1</td>\n",
       "      <td>49</td>\n",
       "      <td>91107</td>\n",
       "      <td>4</td>\n",
       "      <td>1.6</td>\n",
       "      <td>1</td>\n",
       "      <td>0</td>\n",
       "      <td>0</td>\n",
       "      <td>1</td>\n",
       "      <td>0</td>\n",
       "      <td>0</td>\n",
       "      <td>0</td>\n",
       "    </tr>\n",
       "    <tr>\n",
       "      <th>1</th>\n",
       "      <td>2</td>\n",
       "      <td>45</td>\n",
       "      <td>19</td>\n",
       "      <td>34</td>\n",
       "      <td>90089</td>\n",
       "      <td>3</td>\n",
       "      <td>1.5</td>\n",
       "      <td>1</td>\n",
       "      <td>0</td>\n",
       "      <td>0</td>\n",
       "      <td>1</td>\n",
       "      <td>0</td>\n",
       "      <td>0</td>\n",
       "      <td>0</td>\n",
       "    </tr>\n",
       "    <tr>\n",
       "      <th>2</th>\n",
       "      <td>3</td>\n",
       "      <td>39</td>\n",
       "      <td>15</td>\n",
       "      <td>11</td>\n",
       "      <td>94720</td>\n",
       "      <td>1</td>\n",
       "      <td>1.0</td>\n",
       "      <td>1</td>\n",
       "      <td>0</td>\n",
       "      <td>0</td>\n",
       "      <td>0</td>\n",
       "      <td>0</td>\n",
       "      <td>0</td>\n",
       "      <td>0</td>\n",
       "    </tr>\n",
       "    <tr>\n",
       "      <th>3</th>\n",
       "      <td>4</td>\n",
       "      <td>35</td>\n",
       "      <td>9</td>\n",
       "      <td>100</td>\n",
       "      <td>94112</td>\n",
       "      <td>1</td>\n",
       "      <td>2.7</td>\n",
       "      <td>2</td>\n",
       "      <td>0</td>\n",
       "      <td>0</td>\n",
       "      <td>0</td>\n",
       "      <td>0</td>\n",
       "      <td>0</td>\n",
       "      <td>0</td>\n",
       "    </tr>\n",
       "    <tr>\n",
       "      <th>4</th>\n",
       "      <td>5</td>\n",
       "      <td>35</td>\n",
       "      <td>8</td>\n",
       "      <td>45</td>\n",
       "      <td>91330</td>\n",
       "      <td>4</td>\n",
       "      <td>1.0</td>\n",
       "      <td>2</td>\n",
       "      <td>0</td>\n",
       "      <td>0</td>\n",
       "      <td>0</td>\n",
       "      <td>0</td>\n",
       "      <td>0</td>\n",
       "      <td>1</td>\n",
       "    </tr>\n",
       "  </tbody>\n",
       "</table>\n",
       "</div>"
      ],
      "text/plain": [
       "   ID  Age  Experience  Income  ZIP Code  Family  CCAvg  Education  Mortgage  \\\n",
       "0   1   25           1      49     91107       4    1.6          1         0   \n",
       "1   2   45          19      34     90089       3    1.5          1         0   \n",
       "2   3   39          15      11     94720       1    1.0          1         0   \n",
       "3   4   35           9     100     94112       1    2.7          2         0   \n",
       "4   5   35           8      45     91330       4    1.0          2         0   \n",
       "\n",
       "   Personal Loan  Securities Account  CD Account  Online  CreditCard  \n",
       "0              0                   1           0       0           0  \n",
       "1              0                   1           0       0           0  \n",
       "2              0                   0           0       0           0  \n",
       "3              0                   0           0       0           0  \n",
       "4              0                   0           0       0           1  "
      ]
     },
     "execution_count": 1,
     "metadata": {},
     "output_type": "execute_result"
    }
   ],
   "source": [
    "import pandas as pd\n",
    "import numpy as np\n",
    "data = pd.read_csv(\"Bank_Personal_Loan_Modelling.csv\")\n",
    "\n",
    "data.head()"
   ]
  },
  {
   "cell_type": "code",
   "execution_count": 2,
   "id": "ea858ac1",
   "metadata": {},
   "outputs": [],
   "source": [
    "data = data.drop(columns = [\"ID\",\"ZIP Code\"])"
   ]
  },
  {
   "cell_type": "code",
   "execution_count": 3,
   "id": "c3aedec5",
   "metadata": {},
   "outputs": [],
   "source": [
    "X = data.drop(\"Personal Loan\",axis=1)\n",
    "y = data[\"Personal Loan\"]"
   ]
  },
  {
   "cell_type": "code",
   "execution_count": 4,
   "id": "dc8c4f91",
   "metadata": {},
   "outputs": [],
   "source": [
    "from sklearn.model_selection import train_test_split\n",
    "from sklearn.preprocessing import StandardScaler\n",
    "\n",
    "sc = StandardScaler()\n",
    "\n",
    "X_train,X_test,y_train,y_test = train_test_split(X,y,test_size=0.3,random_state=0)"
   ]
  },
  {
   "cell_type": "code",
   "execution_count": 5,
   "id": "f38f285d",
   "metadata": {},
   "outputs": [],
   "source": [
    "X_train = sc.fit_transform(X_train)\n",
    "X_test = sc.transform(X_test)"
   ]
  },
  {
   "cell_type": "code",
   "execution_count": 6,
   "id": "26153bfd",
   "metadata": {},
   "outputs": [
    {
     "name": "stderr",
     "output_type": "stream",
     "text": [
      "C:\\Users\\Srivatsan\\anaconda3\\lib\\site-packages\\keras\\optimizers\\optimizer_v2\\adam.py:117: UserWarning: The `lr` argument is deprecated, use `learning_rate` instead.\n",
      "  super().__init__(name, **kwargs)\n"
     ]
    }
   ],
   "source": [
    "import keras\n",
    "from keras.models import Sequential\n",
    "from keras.layers import Dense\n",
    "\n",
    "from keras.optimizers import Adam\n",
    "\n",
    "optimizer = Adam(lr=0.01)\n",
    "loss = 'binary_crossentropy'\n"
   ]
  },
  {
   "cell_type": "code",
   "execution_count": 7,
   "id": "0145f50c",
   "metadata": {},
   "outputs": [],
   "source": [
    "def fitness(weights):\n",
    "    w0 = weights[:66].reshape((11, 6))\n",
    "    w1 = weights[66:72].reshape((6,1))\n",
    "    b0= np.array([0.,0.,0.,0.,0.,0.])\n",
    "    b1 = np.array([0.])\n",
    "\n",
    "\n",
    "    model.layers[0].set_weights([w0, b0])\n",
    "    model.layers[1].set_weights([w1, b1])\n",
    "    model.compile(optimizer=optimizer, loss=loss)\n",
    "    Loss = model.evaluate(X_train, y_train, verbose=0)\n",
    "    return -Loss"
   ]
  },
  {
   "cell_type": "code",
   "execution_count": 8,
   "id": "6a86469b",
   "metadata": {},
   "outputs": [],
   "source": [
    "def genetic_algorithm(population_size, generations, mutation_rate):\n",
    "    # Initialize the population and belief space with random weights\n",
    "    population = [np.random.uniform(low=-1, high=1, size=77) for _ in range(population_size)]\n",
    "    \n",
    "    for generation in range(generations):\n",
    "        fitness_scores = [fitness(x) for x in population]\n",
    "\n",
    "        indices = np.argsort(fitness_scores)[-2:]\n",
    "        parents = [population[i] for i in indices]\n",
    "\n",
    "        offspring = []\n",
    "        for _ in range(population_size - len(parents)):\n",
    "            parent1 = parents[0].flatten()\n",
    "            parent2 = parents[1].flatten()\n",
    "\n",
    "            #Crossover\n",
    "            crossover_point = np.random.randint(0, len(parent1))\n",
    "            child = np.concatenate([parent1[:crossover_point], parent2[crossover_point:]])\n",
    "            child = child.reshape(parents[0].shape)\n",
    "\n",
    "            #Mutation\n",
    "            for i in range(len(child)):\n",
    "                if np.random.uniform() < mutation_rate:\n",
    "                    child[i] += np.random.normal(loc=0, scale=0.1)\n",
    "\n",
    "            offspring.append(child)\n",
    "\n",
    "        # Combine parents and offspring to form the new population\n",
    "        population = parents + offspring\n",
    "        \n",
    "        if (generation%5==0):\n",
    "            print(\"Finished Generation:\",generation)\n",
    "\n",
    "    fitness_scores = [fitness(x) for x in population]\n",
    "    best_index = np.argmax(fitness_scores)\n",
    "    best_weights = population[best_index]\n",
    "\n",
    "    return best_weights"
   ]
  },
  {
   "cell_type": "code",
   "execution_count": 9,
   "id": "004f9105",
   "metadata": {},
   "outputs": [
    {
     "data": {
      "text/plain": [
       "[<tf.Variable 'dense/kernel:0' shape=(11, 6) dtype=float32, numpy=\n",
       " array([[-0.36340088,  0.5345434 , -0.3726328 , -0.01514661,  0.28678912,\n",
       "          0.05968159],\n",
       "        [-0.17813021,  0.258718  ,  0.579407  ,  0.07626575, -0.0099597 ,\n",
       "         -0.03612757],\n",
       "        [ 0.24457395,  0.03793025,  0.37907624,  0.4273678 , -0.02962226,\n",
       "          0.3106345 ],\n",
       "        [ 0.21546274,  0.14268339,  0.47586524, -0.17224076, -0.25019005,\n",
       "          0.48467195],\n",
       "        [-0.2759541 ,  0.17087376,  0.2913283 ,  0.55865204, -0.3290638 ,\n",
       "         -0.14343381],\n",
       "        [ 0.06859696,  0.07892281, -0.33100587, -0.45943484, -0.44637775,\n",
       "         -0.28318435],\n",
       "        [ 0.35193384,  0.36323005, -0.05805951, -0.48467016,  0.02380502,\n",
       "         -0.41326684],\n",
       "        [-0.11546889,  0.29461044,  0.31636947, -0.5789938 , -0.3031101 ,\n",
       "          0.50401485],\n",
       "        [ 0.04170316, -0.45354778, -0.44005245,  0.38928264,  0.5109402 ,\n",
       "          0.55123854],\n",
       "        [ 0.4157306 , -0.28336763,  0.0251798 ,  0.5098299 ,  0.42820394,\n",
       "         -0.28083098],\n",
       "        [-0.5223981 , -0.24803877,  0.527544  ,  0.27205133, -0.29738846,\n",
       "         -0.23522034]], dtype=float32)>,\n",
       " <tf.Variable 'dense/bias:0' shape=(6,) dtype=float32, numpy=array([0., 0., 0., 0., 0., 0.], dtype=float32)>,\n",
       " <tf.Variable 'dense_1/kernel:0' shape=(6, 1) dtype=float32, numpy=\n",
       " array([[-0.29167622],\n",
       "        [ 0.7712178 ],\n",
       "        [-0.6851036 ],\n",
       "        [ 0.9248266 ],\n",
       "        [-0.4498003 ],\n",
       "        [ 0.8746294 ]], dtype=float32)>,\n",
       " <tf.Variable 'dense_1/bias:0' shape=(1,) dtype=float32, numpy=array([0.], dtype=float32)>]"
      ]
     },
     "execution_count": 9,
     "metadata": {},
     "output_type": "execute_result"
    }
   ],
   "source": [
    "model = Sequential()\n",
    "model.add(Dense(units=6, activation='relu', input_dim=X_train.shape[1]))\n",
    "model.add(Dense(units=1, activation='sigmoid'))\n",
    "\n",
    "model.weights"
   ]
  },
  {
   "cell_type": "code",
   "execution_count": 10,
   "id": "866242b4",
   "metadata": {},
   "outputs": [
    {
     "name": "stdout",
     "output_type": "stream",
     "text": [
      "Finished Generation: 0\n",
      "Finished Generation: 5\n",
      "Finished Generation: 10\n",
      "Finished Generation: 15\n",
      "Finished Generation: 20\n",
      "Finished Generation: 25\n",
      "Finished Generation: 30\n",
      "Finished Generation: 35\n",
      "Finished Generation: 40\n",
      "Finished Generation: 45\n"
     ]
    }
   ],
   "source": [
    "best_weights = genetic_algorithm(population_size=20, generations=50, mutation_rate=0.1)\n",
    "w0 = best_weights[:66].reshape((11, 6))\n",
    "w1 = best_weights[66:72].reshape((6,1))\n",
    "b0= np.array([0.,0.,0.,0.,0.,0.])\n",
    "b1 = np.array([0.])\n",
    "\n",
    "model.layers[0].set_weights([w0, b0])\n",
    "model.layers[1].set_weights([w1, b1])\n",
    "\n",
    "model.compile(optimizer=optimizer, loss=loss)"
   ]
  },
  {
   "cell_type": "code",
   "execution_count": 11,
   "id": "109bbccf",
   "metadata": {},
   "outputs": [
    {
     "name": "stdout",
     "output_type": "stream",
     "text": [
      "47/47 [==============================] - 0s 1ms/step\n"
     ]
    }
   ],
   "source": [
    "y_pred = model.predict(X_test)\n",
    "y_pred = (y_pred < 0.00005)"
   ]
  },
  {
   "cell_type": "code",
   "execution_count": 12,
   "id": "8ec11056",
   "metadata": {},
   "outputs": [
    {
     "data": {
      "text/plain": [
       "0.8206666666666667"
      ]
     },
     "execution_count": 12,
     "metadata": {},
     "output_type": "execute_result"
    }
   ],
   "source": [
    "from sklearn.metrics import accuracy_score\n",
    "accuracy_score(y_test,y_pred)"
   ]
  }
 ],
 "metadata": {
  "kernelspec": {
   "display_name": "Python 3 (ipykernel)",
   "language": "python",
   "name": "python3"
  },
  "language_info": {
   "codemirror_mode": {
    "name": "ipython",
    "version": 3
   },
   "file_extension": ".py",
   "mimetype": "text/x-python",
   "name": "python",
   "nbconvert_exporter": "python",
   "pygments_lexer": "ipython3",
   "version": "3.9.13"
  }
 },
 "nbformat": 4,
 "nbformat_minor": 5
}
