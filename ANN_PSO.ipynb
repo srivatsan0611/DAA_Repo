{
 "cells": [
  {
   "cell_type": "code",
   "execution_count": 1,
   "id": "5246f69f",
   "metadata": {},
   "outputs": [
    {
     "data": {
      "text/html": [
       "<div>\n",
       "<style scoped>\n",
       "    .dataframe tbody tr th:only-of-type {\n",
       "        vertical-align: middle;\n",
       "    }\n",
       "\n",
       "    .dataframe tbody tr th {\n",
       "        vertical-align: top;\n",
       "    }\n",
       "\n",
       "    .dataframe thead th {\n",
       "        text-align: right;\n",
       "    }\n",
       "</style>\n",
       "<table border=\"1\" class=\"dataframe\">\n",
       "  <thead>\n",
       "    <tr style=\"text-align: right;\">\n",
       "      <th></th>\n",
       "      <th>ID</th>\n",
       "      <th>Age</th>\n",
       "      <th>Experience</th>\n",
       "      <th>Income</th>\n",
       "      <th>ZIP Code</th>\n",
       "      <th>Family</th>\n",
       "      <th>CCAvg</th>\n",
       "      <th>Education</th>\n",
       "      <th>Mortgage</th>\n",
       "      <th>Personal Loan</th>\n",
       "      <th>Securities Account</th>\n",
       "      <th>CD Account</th>\n",
       "      <th>Online</th>\n",
       "      <th>CreditCard</th>\n",
       "    </tr>\n",
       "  </thead>\n",
       "  <tbody>\n",
       "    <tr>\n",
       "      <th>0</th>\n",
       "      <td>1</td>\n",
       "      <td>25</td>\n",
       "      <td>1</td>\n",
       "      <td>49</td>\n",
       "      <td>91107</td>\n",
       "      <td>4</td>\n",
       "      <td>1.6</td>\n",
       "      <td>1</td>\n",
       "      <td>0</td>\n",
       "      <td>0</td>\n",
       "      <td>1</td>\n",
       "      <td>0</td>\n",
       "      <td>0</td>\n",
       "      <td>0</td>\n",
       "    </tr>\n",
       "    <tr>\n",
       "      <th>1</th>\n",
       "      <td>2</td>\n",
       "      <td>45</td>\n",
       "      <td>19</td>\n",
       "      <td>34</td>\n",
       "      <td>90089</td>\n",
       "      <td>3</td>\n",
       "      <td>1.5</td>\n",
       "      <td>1</td>\n",
       "      <td>0</td>\n",
       "      <td>0</td>\n",
       "      <td>1</td>\n",
       "      <td>0</td>\n",
       "      <td>0</td>\n",
       "      <td>0</td>\n",
       "    </tr>\n",
       "    <tr>\n",
       "      <th>2</th>\n",
       "      <td>3</td>\n",
       "      <td>39</td>\n",
       "      <td>15</td>\n",
       "      <td>11</td>\n",
       "      <td>94720</td>\n",
       "      <td>1</td>\n",
       "      <td>1.0</td>\n",
       "      <td>1</td>\n",
       "      <td>0</td>\n",
       "      <td>0</td>\n",
       "      <td>0</td>\n",
       "      <td>0</td>\n",
       "      <td>0</td>\n",
       "      <td>0</td>\n",
       "    </tr>\n",
       "    <tr>\n",
       "      <th>3</th>\n",
       "      <td>4</td>\n",
       "      <td>35</td>\n",
       "      <td>9</td>\n",
       "      <td>100</td>\n",
       "      <td>94112</td>\n",
       "      <td>1</td>\n",
       "      <td>2.7</td>\n",
       "      <td>2</td>\n",
       "      <td>0</td>\n",
       "      <td>0</td>\n",
       "      <td>0</td>\n",
       "      <td>0</td>\n",
       "      <td>0</td>\n",
       "      <td>0</td>\n",
       "    </tr>\n",
       "    <tr>\n",
       "      <th>4</th>\n",
       "      <td>5</td>\n",
       "      <td>35</td>\n",
       "      <td>8</td>\n",
       "      <td>45</td>\n",
       "      <td>91330</td>\n",
       "      <td>4</td>\n",
       "      <td>1.0</td>\n",
       "      <td>2</td>\n",
       "      <td>0</td>\n",
       "      <td>0</td>\n",
       "      <td>0</td>\n",
       "      <td>0</td>\n",
       "      <td>0</td>\n",
       "      <td>1</td>\n",
       "    </tr>\n",
       "  </tbody>\n",
       "</table>\n",
       "</div>"
      ],
      "text/plain": [
       "   ID  Age  Experience  Income  ZIP Code  Family  CCAvg  Education  Mortgage  \\\n",
       "0   1   25           1      49     91107       4    1.6          1         0   \n",
       "1   2   45          19      34     90089       3    1.5          1         0   \n",
       "2   3   39          15      11     94720       1    1.0          1         0   \n",
       "3   4   35           9     100     94112       1    2.7          2         0   \n",
       "4   5   35           8      45     91330       4    1.0          2         0   \n",
       "\n",
       "   Personal Loan  Securities Account  CD Account  Online  CreditCard  \n",
       "0              0                   1           0       0           0  \n",
       "1              0                   1           0       0           0  \n",
       "2              0                   0           0       0           0  \n",
       "3              0                   0           0       0           0  \n",
       "4              0                   0           0       0           1  "
      ]
     },
     "execution_count": 1,
     "metadata": {},
     "output_type": "execute_result"
    }
   ],
   "source": [
    "import pandas as pd\n",
    "import numpy as np\n",
    "data = pd.read_csv(\"Bank_Personal_Loan_Modelling.csv\")\n",
    "\n",
    "data.head()"
   ]
  },
  {
   "cell_type": "code",
   "execution_count": 2,
   "id": "9269110f",
   "metadata": {},
   "outputs": [],
   "source": [
    "data = data.drop(columns = [\"ID\",\"ZIP Code\"])"
   ]
  },
  {
   "cell_type": "code",
   "execution_count": 3,
   "id": "f903c880",
   "metadata": {},
   "outputs": [],
   "source": [
    "X = data.drop(\"Personal Loan\",axis=1)\n",
    "y = data[\"Personal Loan\"]\n",
    "\n",
    "from sklearn.model_selection import train_test_split\n",
    "from sklearn.preprocessing import StandardScaler\n",
    "\n",
    "sc = StandardScaler()\n",
    "\n",
    "X_train,X_test,y_train,y_test = train_test_split(X,y,test_size=0.3,random_state=0)"
   ]
  },
  {
   "cell_type": "code",
   "execution_count": 4,
   "id": "1b8d9061",
   "metadata": {},
   "outputs": [],
   "source": [
    "X_train = sc.fit_transform(X_train)\n",
    "X_test = sc.transform(X_test)"
   ]
  },
  {
   "cell_type": "code",
   "execution_count": 5,
   "id": "c2e6fcc2",
   "metadata": {},
   "outputs": [
    {
     "name": "stderr",
     "output_type": "stream",
     "text": [
      "C:\\Users\\Srivatsan\\anaconda3\\lib\\site-packages\\keras\\optimizers\\optimizer_v2\\adam.py:117: UserWarning: The `lr` argument is deprecated, use `learning_rate` instead.\n",
      "  super().__init__(name, **kwargs)\n"
     ]
    }
   ],
   "source": [
    "import keras\n",
    "from keras.models import Sequential\n",
    "from keras.layers import Dense\n",
    "\n",
    "from keras.optimizers import Adam\n",
    "\n",
    "optimizer = Adam(lr=0.01)\n",
    "loss = 'binary_crossentropy'\n",
    "\n",
    "model = Sequential()\n",
    "model.add(Dense(units=6, activation='relu', input_dim=X_train.shape[1]))\n",
    "model.add(Dense(units=1, activation='sigmoid'))\n"
   ]
  },
  {
   "cell_type": "code",
   "execution_count": 6,
   "id": "7cdb16ca",
   "metadata": {},
   "outputs": [
    {
     "data": {
      "text/plain": [
       "[<tf.Variable 'dense/kernel:0' shape=(11, 6) dtype=float32, numpy=\n",
       " array([[ 0.0146755 , -0.19158009, -0.5307023 ,  0.55748904, -0.01115543,\n",
       "         -0.34351382],\n",
       "        [ 0.3726123 ,  0.54244256, -0.52558905, -0.31096554,  0.39799362,\n",
       "          0.16105402],\n",
       "        [ 0.00529855, -0.46202874,  0.34736222, -0.1484026 , -0.05151963,\n",
       "          0.02318054],\n",
       "        [ 0.08752823, -0.2783596 , -0.31275603, -0.52396244,  0.4094404 ,\n",
       "          0.41764987],\n",
       "        [-0.5848882 , -0.13736147, -0.40761465, -0.5537429 , -0.5271365 ,\n",
       "         -0.5910771 ],\n",
       "        [-0.3714926 ,  0.11522615,  0.33759505, -0.0879792 ,  0.22152317,\n",
       "         -0.40541238],\n",
       "        [ 0.33830154,  0.28104752,  0.0686416 , -0.02141482, -0.43631595,\n",
       "          0.532251  ],\n",
       "        [ 0.4426899 ,  0.38657957, -0.48502088,  0.13759392, -0.09299845,\n",
       "         -0.33203545],\n",
       "        [-0.04727393, -0.41171587,  0.06225497, -0.5814186 , -0.38542065,\n",
       "         -0.00240737],\n",
       "        [ 0.16530329,  0.05423975, -0.14267603, -0.31271765, -0.3976851 ,\n",
       "         -0.35919794],\n",
       "        [ 0.15327197, -0.4176477 ,  0.17326325,  0.46565413, -0.08182967,\n",
       "          0.0472061 ]], dtype=float32)>,\n",
       " <tf.Variable 'dense/bias:0' shape=(6,) dtype=float32, numpy=array([0., 0., 0., 0., 0., 0.], dtype=float32)>,\n",
       " <tf.Variable 'dense_1/kernel:0' shape=(6, 1) dtype=float32, numpy=\n",
       " array([[-0.28605545],\n",
       "        [-0.6906389 ],\n",
       "        [-0.4881632 ],\n",
       "        [-0.3131491 ],\n",
       "        [ 0.90533924],\n",
       "        [ 0.43918705]], dtype=float32)>,\n",
       " <tf.Variable 'dense_1/bias:0' shape=(1,) dtype=float32, numpy=array([0.], dtype=float32)>]"
      ]
     },
     "execution_count": 6,
     "metadata": {},
     "output_type": "execute_result"
    }
   ],
   "source": [
    "model.weights"
   ]
  },
  {
   "cell_type": "code",
   "execution_count": 7,
   "id": "99651351",
   "metadata": {},
   "outputs": [],
   "source": [
    "def fitness(weights):\n",
    "    w0 = weights[:66].reshape((11, 6))\n",
    "    w1 = weights[66:72].reshape((6,1))\n",
    "    b0= np.array([0.,0.,0.,0.,0.,0.])\n",
    "    b1 = np.array([0.])\n",
    "\n",
    "\n",
    "    model.layers[0].set_weights([w0, b0])\n",
    "    model.layers[1].set_weights([w1, b1])\n",
    "    \n",
    "    \n",
    "    model.compile(optimizer=optimizer, loss=loss)\n",
    "    \n",
    "    Loss = model.evaluate(X_train, y_train, verbose=0)\n",
    "    return -Loss"
   ]
  },
  {
   "cell_type": "code",
   "execution_count": 3,
   "id": "dbf823db",
   "metadata": {},
   "outputs": [],
   "source": [
    "def pso(fitness, num_weights, max_iter, pop_size, w, c1, c2):\n",
    "    \n",
    "    swarm_pos = np.random.uniform(low=-1, high=1, size=(pop_size, num_weights))\n",
    "    swarm_vel = np.zeros((pop_size, num_weights))\n",
    "    swarm_best_pos = swarm_pos.copy()\n",
    "    swarm_best_fitness = np.zeros(pop_size)\n",
    "    global_best_pos = swarm_pos[0].copy()\n",
    "    global_best_fitness = float('inf')\n",
    "    prev_gbf = 0\n",
    "    \n",
    "    \n",
    "    for i in range(max_iter):\n",
    "        for j in range(pop_size):\n",
    "            # Update velocity\n",
    "            swarm_vel[j] = (w * swarm_vel[j] \n",
    "                            + c1 * np.random.uniform(0, 1, num_weights) * (swarm_best_pos[j] - swarm_pos[j])\n",
    "                            + c2 * np.random.uniform(0, 1, num_weights) * (global_best_pos - swarm_pos[j]))\n",
    "            \n",
    "            swarm_pos[j] += swarm_vel[j]\n",
    "            \n",
    "            swarm_pos[j] = np.clip(swarm_pos[j], -1, 1)\n",
    "            \n",
    "            swarm_fitness = fitness(swarm_pos[j])\n",
    "            \n",
    "            # Update personal best\n",
    "            if swarm_fitness < swarm_best_fitness[j]:\n",
    "                swarm_best_fitness[j] = swarm_fitness\n",
    "                swarm_best_pos[j] = swarm_pos[j].copy()\n",
    "                \n",
    "                # Update global best\n",
    "                if swarm_fitness < global_best_fitness:\n",
    "                    global_best_fitness = swarm_fitness\n",
    "                    global_best_pos = swarm_pos[j].copy()\n",
    "        if (i%10==0):\n",
    "            if (prev_gbf == global_best_fitness):\n",
    "                print(f\"Iteration {i+1}: Best Fitness = {-global_best_fitness:.4f} CONVERGED BREAKING\")\n",
    "            else:\n",
    "                print(f\"Iteration {i+1}: Best Fitness = {-global_best_fitness:.4f}\")\n",
    "            prev_gbf = global_best_fitness\n",
    "            \n",
    "    \n",
    "    return global_best_pos"
   ]
  },
  {
   "cell_type": "code",
   "execution_count": 42,
   "id": "a27c1430",
   "metadata": {},
   "outputs": [
    {
     "name": "stdout",
     "output_type": "stream",
     "text": [
      "Iteration 1: Best Fitness = 1.2536\n",
      "Iteration 11: Best Fitness = 3.3867\n",
      "Iteration 21: Best Fitness = 3.3867\n",
      "Iteration 31: Best Fitness = 3.3867\n",
      "Iteration 41: Best Fitness = 3.3867\n"
     ]
    }
   ],
   "source": [
    "num_weights = 72\n",
    "max_iter = 50\n",
    "pop_size = 10\n",
    "w = 0.5\n",
    "c1 = 2\n",
    "c2 = 2\n",
    "best_weights = pso(fitness, num_weights, max_iter, pop_size, w, c1, c2)"
   ]
  },
  {
   "cell_type": "code",
   "execution_count": 47,
   "id": "ec3468d3",
   "metadata": {},
   "outputs": [],
   "source": [
    "w0 = best_weights[:66].reshape((11, 6))\n",
    "w1 = best_weights[66:72].reshape((6,1))\n",
    "b0= np.array([0.,0.,0.,0.,0.,0.])\n",
    "b1 = np.array([0.])\n",
    "\n",
    "\n",
    "model.layers[0].set_weights([w0, b0])\n",
    "model.layers[1].set_weights([w1, b1])\n",
    "    \n",
    "    \n",
    "model.compile(optimizer=optimizer, loss=loss)"
   ]
  },
  {
   "cell_type": "code",
   "execution_count": 59,
   "id": "ad7a7f66",
   "metadata": {},
   "outputs": [
    {
     "name": "stdout",
     "output_type": "stream",
     "text": [
      "47/47 [==============================] - 0s 716us/step\n"
     ]
    },
    {
     "data": {
      "text/plain": [
       "array([[0.96012574],\n",
       "       [0.997856  ],\n",
       "       [0.95901936],\n",
       "       ...,\n",
       "       [0.9999977 ],\n",
       "       [0.70206517],\n",
       "       [0.99823475]], dtype=float32)"
      ]
     },
     "execution_count": 59,
     "metadata": {},
     "output_type": "execute_result"
    }
   ],
   "source": [
    "y_pred = model.predict(X_test)\n",
    "y_pred"
   ]
  },
  {
   "cell_type": "code",
   "execution_count": 62,
   "id": "67b0e279",
   "metadata": {},
   "outputs": [],
   "source": [
    "y_pred = (y_pred < 0.05)\n"
   ]
  },
  {
   "cell_type": "code",
   "execution_count": 63,
   "id": "021f1607",
   "metadata": {},
   "outputs": [
    {
     "data": {
      "text/plain": [
       "0.7706666666666667"
      ]
     },
     "execution_count": 63,
     "metadata": {},
     "output_type": "execute_result"
    }
   ],
   "source": [
    "from sklearn.metrics import accuracy_score\n",
    "accuracy_score(y_test,y_pred)"
   ]
  }
 ],
 "metadata": {
  "kernelspec": {
   "display_name": "Python 3 (ipykernel)",
   "language": "python",
   "name": "python3"
  },
  "language_info": {
   "codemirror_mode": {
    "name": "ipython",
    "version": 3
   },
   "file_extension": ".py",
   "mimetype": "text/x-python",
   "name": "python",
   "nbconvert_exporter": "python",
   "pygments_lexer": "ipython3",
   "version": "3.9.13"
  }
 },
 "nbformat": 4,
 "nbformat_minor": 5
}
