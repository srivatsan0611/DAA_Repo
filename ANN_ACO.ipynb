{
 "cells": [
  {
   "cell_type": "code",
   "execution_count": 1,
   "id": "e23678d9",
   "metadata": {},
   "outputs": [
    {
     "data": {
      "text/html": [
       "<div>\n",
       "<style scoped>\n",
       "    .dataframe tbody tr th:only-of-type {\n",
       "        vertical-align: middle;\n",
       "    }\n",
       "\n",
       "    .dataframe tbody tr th {\n",
       "        vertical-align: top;\n",
       "    }\n",
       "\n",
       "    .dataframe thead th {\n",
       "        text-align: right;\n",
       "    }\n",
       "</style>\n",
       "<table border=\"1\" class=\"dataframe\">\n",
       "  <thead>\n",
       "    <tr style=\"text-align: right;\">\n",
       "      <th></th>\n",
       "      <th>ID</th>\n",
       "      <th>Age</th>\n",
       "      <th>Experience</th>\n",
       "      <th>Income</th>\n",
       "      <th>ZIP Code</th>\n",
       "      <th>Family</th>\n",
       "      <th>CCAvg</th>\n",
       "      <th>Education</th>\n",
       "      <th>Mortgage</th>\n",
       "      <th>Personal Loan</th>\n",
       "      <th>Securities Account</th>\n",
       "      <th>CD Account</th>\n",
       "      <th>Online</th>\n",
       "      <th>CreditCard</th>\n",
       "    </tr>\n",
       "  </thead>\n",
       "  <tbody>\n",
       "    <tr>\n",
       "      <th>0</th>\n",
       "      <td>1</td>\n",
       "      <td>25</td>\n",
       "      <td>1</td>\n",
       "      <td>49</td>\n",
       "      <td>91107</td>\n",
       "      <td>4</td>\n",
       "      <td>1.6</td>\n",
       "      <td>1</td>\n",
       "      <td>0</td>\n",
       "      <td>0</td>\n",
       "      <td>1</td>\n",
       "      <td>0</td>\n",
       "      <td>0</td>\n",
       "      <td>0</td>\n",
       "    </tr>\n",
       "    <tr>\n",
       "      <th>1</th>\n",
       "      <td>2</td>\n",
       "      <td>45</td>\n",
       "      <td>19</td>\n",
       "      <td>34</td>\n",
       "      <td>90089</td>\n",
       "      <td>3</td>\n",
       "      <td>1.5</td>\n",
       "      <td>1</td>\n",
       "      <td>0</td>\n",
       "      <td>0</td>\n",
       "      <td>1</td>\n",
       "      <td>0</td>\n",
       "      <td>0</td>\n",
       "      <td>0</td>\n",
       "    </tr>\n",
       "    <tr>\n",
       "      <th>2</th>\n",
       "      <td>3</td>\n",
       "      <td>39</td>\n",
       "      <td>15</td>\n",
       "      <td>11</td>\n",
       "      <td>94720</td>\n",
       "      <td>1</td>\n",
       "      <td>1.0</td>\n",
       "      <td>1</td>\n",
       "      <td>0</td>\n",
       "      <td>0</td>\n",
       "      <td>0</td>\n",
       "      <td>0</td>\n",
       "      <td>0</td>\n",
       "      <td>0</td>\n",
       "    </tr>\n",
       "    <tr>\n",
       "      <th>3</th>\n",
       "      <td>4</td>\n",
       "      <td>35</td>\n",
       "      <td>9</td>\n",
       "      <td>100</td>\n",
       "      <td>94112</td>\n",
       "      <td>1</td>\n",
       "      <td>2.7</td>\n",
       "      <td>2</td>\n",
       "      <td>0</td>\n",
       "      <td>0</td>\n",
       "      <td>0</td>\n",
       "      <td>0</td>\n",
       "      <td>0</td>\n",
       "      <td>0</td>\n",
       "    </tr>\n",
       "    <tr>\n",
       "      <th>4</th>\n",
       "      <td>5</td>\n",
       "      <td>35</td>\n",
       "      <td>8</td>\n",
       "      <td>45</td>\n",
       "      <td>91330</td>\n",
       "      <td>4</td>\n",
       "      <td>1.0</td>\n",
       "      <td>2</td>\n",
       "      <td>0</td>\n",
       "      <td>0</td>\n",
       "      <td>0</td>\n",
       "      <td>0</td>\n",
       "      <td>0</td>\n",
       "      <td>1</td>\n",
       "    </tr>\n",
       "  </tbody>\n",
       "</table>\n",
       "</div>"
      ],
      "text/plain": [
       "   ID  Age  Experience  Income  ZIP Code  Family  CCAvg  Education  Mortgage  \\\n",
       "0   1   25           1      49     91107       4    1.6          1         0   \n",
       "1   2   45          19      34     90089       3    1.5          1         0   \n",
       "2   3   39          15      11     94720       1    1.0          1         0   \n",
       "3   4   35           9     100     94112       1    2.7          2         0   \n",
       "4   5   35           8      45     91330       4    1.0          2         0   \n",
       "\n",
       "   Personal Loan  Securities Account  CD Account  Online  CreditCard  \n",
       "0              0                   1           0       0           0  \n",
       "1              0                   1           0       0           0  \n",
       "2              0                   0           0       0           0  \n",
       "3              0                   0           0       0           0  \n",
       "4              0                   0           0       0           1  "
      ]
     },
     "execution_count": 1,
     "metadata": {},
     "output_type": "execute_result"
    }
   ],
   "source": [
    "import pandas as pd\n",
    "import numpy as np\n",
    "data = pd.read_csv(\"Bank_Personal_Loan_Modelling.csv\")\n",
    "\n",
    "data.head()"
   ]
  },
  {
   "cell_type": "code",
   "execution_count": 2,
   "id": "fd8e57a0",
   "metadata": {},
   "outputs": [],
   "source": [
    "data = data.drop(columns = [\"ID\",\"ZIP Code\"])"
   ]
  },
  {
   "cell_type": "code",
   "execution_count": 3,
   "id": "a17555bd",
   "metadata": {},
   "outputs": [],
   "source": [
    "X = data.drop(\"Personal Loan\",axis=1)\n",
    "y = data[\"Personal Loan\"]\n",
    "\n",
    "from sklearn.model_selection import train_test_split\n",
    "from sklearn.preprocessing import StandardScaler\n",
    "\n",
    "sc = StandardScaler()\n",
    "\n",
    "X_train,X_test,y_train,y_test = train_test_split(X,y,test_size=0.3,random_state=0)\n",
    "\n",
    "X_train = sc.fit_transform(X_train)\n",
    "X_test = sc.transform(X_test)"
   ]
  },
  {
   "cell_type": "code",
   "execution_count": 4,
   "id": "802b71db",
   "metadata": {},
   "outputs": [
    {
     "name": "stderr",
     "output_type": "stream",
     "text": [
      "C:\\Users\\Srivatsan\\anaconda3\\lib\\site-packages\\keras\\optimizers\\optimizer_v2\\adam.py:117: UserWarning: The `lr` argument is deprecated, use `learning_rate` instead.\n",
      "  super().__init__(name, **kwargs)\n"
     ]
    }
   ],
   "source": [
    "import keras\n",
    "from keras.models import Sequential\n",
    "from keras.layers import Dense\n",
    "\n",
    "from keras.optimizers import Adam\n",
    "\n",
    "optimizer = Adam(lr=0.01)\n",
    "loss = 'binary_crossentropy'"
   ]
  },
  {
   "cell_type": "code",
   "execution_count": 5,
   "id": "63360248",
   "metadata": {},
   "outputs": [],
   "source": [
    "model = Sequential()\n",
    "model.add(Dense(units=6, activation='relu', input_dim=X_train.shape[1]))\n",
    "model.add(Dense(units=1, activation='sigmoid'))"
   ]
  },
  {
   "cell_type": "code",
   "execution_count": 27,
   "id": "7703496d",
   "metadata": {},
   "outputs": [],
   "source": [
    "def fitness(weights):\n",
    "    weights = weights.flatten()\n",
    "    w0 = weights[:66].reshape((11, 6))\n",
    "    w1 = weights[66:72].reshape((6,1))\n",
    "    b0= np.array([0.,0.,0.,0.,0.,0.])\n",
    "    b1 = np.array([0.])\n",
    "\n",
    "\n",
    "    model.layers[0].set_weights([w0, b0])\n",
    "    model.layers[1].set_weights([w1, b1])\n",
    "    \n",
    "    model.compile(optimizer=optimizer, loss=loss)\n",
    "    Loss = model.evaluate(X_train, y_train, verbose=0)\n",
    "    return Loss"
   ]
  },
  {
   "cell_type": "code",
   "execution_count": 28,
   "id": "4ee48e84",
   "metadata": {},
   "outputs": [],
   "source": [
    "def ant_colony_optimization(population_size=10, iterations=50, alpha=1, beta=2, evaporation_rate=0.5, Q=100):\n",
    "    \n",
    "    # initialize the pheromone matrix\n",
    "    pheromone = np.ones((12, 6))\n",
    "    \n",
    "    \n",
    "    # initialize the best weights and the loss\n",
    "    best_weights = None\n",
    "    best_loss = 99\n",
    "    \n",
    "    for i in range(iterations):\n",
    "        # initialize the ant population and ant accuracies\n",
    "        ants = []\n",
    "        ant_loss = []\n",
    "        \n",
    "        for j in range(population_size):\n",
    "            weights = np.zeros((12,6))\n",
    "            for k in range(12):\n",
    "                for l in range(6):\n",
    "                    if np.random.rand() < pheromone[k][l]:\n",
    "                        weights[k][l] = np.random.randn()\n",
    "                        \n",
    "            losses = fitness(weights)\n",
    "            ants.append(weights)\n",
    "            ant_loss.append(losses)\n",
    "            \n",
    "            \n",
    "            if losses < best_loss:\n",
    "                best_weights = weights\n",
    "                best_loss = losses\n",
    "                \n",
    "                \n",
    "        # update the pheromone matrix\n",
    "        for k in range(11):\n",
    "            for l in range(6):\n",
    "                pheromone[k][l] = (1 - evaporation_rate) * pheromone[k][l]\n",
    "                for j in range(population_size):\n",
    "                    if ants[j][k][l] != 0:\n",
    "                        pheromone[k][l] += Q / ant_loss[j] * ants[j][k][l]\n",
    "       \n",
    "        if i % 10 == 0:\n",
    "            print(\"Iteration:\", i, \"Best Loss:\", best_loss)\n",
    "    \n",
    "    return best_weights"
   ]
  },
  {
   "cell_type": "code",
   "execution_count": 29,
   "id": "b2def868",
   "metadata": {},
   "outputs": [
    {
     "name": "stdout",
     "output_type": "stream",
     "text": [
      "Iteration: 0 Best Loss: 0.5727410316467285\n",
      "Iteration: 10 Best Loss: 0.44059422612190247\n",
      "Iteration: 20 Best Loss: 0.44059422612190247\n",
      "Iteration: 30 Best Loss: 0.44059422612190247\n",
      "Iteration: 40 Best Loss: 0.44059422612190247\n"
     ]
    }
   ],
   "source": [
    "best_weights = ant_colony_optimization()"
   ]
  },
  {
   "cell_type": "code",
   "execution_count": 31,
   "id": "a4750884",
   "metadata": {},
   "outputs": [],
   "source": [
    "best_weights = best_weights.flatten()\n",
    "w0 = best_weights[:66].reshape((11, 6))\n",
    "w1 = best_weights[66:72].reshape((6,1))\n",
    "b0= np.array([0.,0.,0.,0.,0.,0.])\n",
    "b1 = np.array([0.])\n",
    "\n",
    "\n",
    "model.layers[0].set_weights([w0, b0])\n",
    "model.layers[1].set_weights([w1, b1])\n",
    "    \n",
    "model.compile(optimizer=optimizer, loss=loss)"
   ]
  },
  {
   "cell_type": "code",
   "execution_count": 36,
   "id": "260d72bb",
   "metadata": {},
   "outputs": [
    {
     "name": "stdout",
     "output_type": "stream",
     "text": [
      "47/47 [==============================] - 0s 921us/step\n"
     ]
    }
   ],
   "source": [
    "y_pred = model.predict(X_test)\n",
    "y_pred = (y_pred > 0.5)"
   ]
  },
  {
   "cell_type": "code",
   "execution_count": 37,
   "id": "a1265072",
   "metadata": {},
   "outputs": [
    {
     "data": {
      "text/plain": [
       "0.8226666666666667"
      ]
     },
     "execution_count": 37,
     "metadata": {},
     "output_type": "execute_result"
    }
   ],
   "source": [
    "from sklearn.metrics import accuracy_score\n",
    "accuracy_score(y_pred,y_test)"
   ]
  },
  {
   "cell_type": "code",
   "execution_count": null,
   "id": "0507cc27",
   "metadata": {},
   "outputs": [],
   "source": []
  }
 ],
 "metadata": {
  "kernelspec": {
   "display_name": "Python 3 (ipykernel)",
   "language": "python",
   "name": "python3"
  },
  "language_info": {
   "codemirror_mode": {
    "name": "ipython",
    "version": 3
   },
   "file_extension": ".py",
   "mimetype": "text/x-python",
   "name": "python",
   "nbconvert_exporter": "python",
   "pygments_lexer": "ipython3",
   "version": "3.9.13"
  }
 },
 "nbformat": 4,
 "nbformat_minor": 5
}
