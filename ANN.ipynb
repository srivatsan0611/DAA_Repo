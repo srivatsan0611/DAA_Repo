{
 "cells": [
  {
   "cell_type": "code",
   "execution_count": 1,
   "id": "a7b352d1",
   "metadata": {},
   "outputs": [
    {
     "data": {
      "text/html": [
       "<div>\n",
       "<style scoped>\n",
       "    .dataframe tbody tr th:only-of-type {\n",
       "        vertical-align: middle;\n",
       "    }\n",
       "\n",
       "    .dataframe tbody tr th {\n",
       "        vertical-align: top;\n",
       "    }\n",
       "\n",
       "    .dataframe thead th {\n",
       "        text-align: right;\n",
       "    }\n",
       "</style>\n",
       "<table border=\"1\" class=\"dataframe\">\n",
       "  <thead>\n",
       "    <tr style=\"text-align: right;\">\n",
       "      <th></th>\n",
       "      <th>ID</th>\n",
       "      <th>Age</th>\n",
       "      <th>Experience</th>\n",
       "      <th>Income</th>\n",
       "      <th>ZIP Code</th>\n",
       "      <th>Family</th>\n",
       "      <th>CCAvg</th>\n",
       "      <th>Education</th>\n",
       "      <th>Mortgage</th>\n",
       "      <th>Personal Loan</th>\n",
       "      <th>Securities Account</th>\n",
       "      <th>CD Account</th>\n",
       "      <th>Online</th>\n",
       "      <th>CreditCard</th>\n",
       "    </tr>\n",
       "  </thead>\n",
       "  <tbody>\n",
       "    <tr>\n",
       "      <th>0</th>\n",
       "      <td>1</td>\n",
       "      <td>25</td>\n",
       "      <td>1</td>\n",
       "      <td>49</td>\n",
       "      <td>91107</td>\n",
       "      <td>4</td>\n",
       "      <td>1.6</td>\n",
       "      <td>1</td>\n",
       "      <td>0</td>\n",
       "      <td>0</td>\n",
       "      <td>1</td>\n",
       "      <td>0</td>\n",
       "      <td>0</td>\n",
       "      <td>0</td>\n",
       "    </tr>\n",
       "    <tr>\n",
       "      <th>1</th>\n",
       "      <td>2</td>\n",
       "      <td>45</td>\n",
       "      <td>19</td>\n",
       "      <td>34</td>\n",
       "      <td>90089</td>\n",
       "      <td>3</td>\n",
       "      <td>1.5</td>\n",
       "      <td>1</td>\n",
       "      <td>0</td>\n",
       "      <td>0</td>\n",
       "      <td>1</td>\n",
       "      <td>0</td>\n",
       "      <td>0</td>\n",
       "      <td>0</td>\n",
       "    </tr>\n",
       "    <tr>\n",
       "      <th>2</th>\n",
       "      <td>3</td>\n",
       "      <td>39</td>\n",
       "      <td>15</td>\n",
       "      <td>11</td>\n",
       "      <td>94720</td>\n",
       "      <td>1</td>\n",
       "      <td>1.0</td>\n",
       "      <td>1</td>\n",
       "      <td>0</td>\n",
       "      <td>0</td>\n",
       "      <td>0</td>\n",
       "      <td>0</td>\n",
       "      <td>0</td>\n",
       "      <td>0</td>\n",
       "    </tr>\n",
       "    <tr>\n",
       "      <th>3</th>\n",
       "      <td>4</td>\n",
       "      <td>35</td>\n",
       "      <td>9</td>\n",
       "      <td>100</td>\n",
       "      <td>94112</td>\n",
       "      <td>1</td>\n",
       "      <td>2.7</td>\n",
       "      <td>2</td>\n",
       "      <td>0</td>\n",
       "      <td>0</td>\n",
       "      <td>0</td>\n",
       "      <td>0</td>\n",
       "      <td>0</td>\n",
       "      <td>0</td>\n",
       "    </tr>\n",
       "    <tr>\n",
       "      <th>4</th>\n",
       "      <td>5</td>\n",
       "      <td>35</td>\n",
       "      <td>8</td>\n",
       "      <td>45</td>\n",
       "      <td>91330</td>\n",
       "      <td>4</td>\n",
       "      <td>1.0</td>\n",
       "      <td>2</td>\n",
       "      <td>0</td>\n",
       "      <td>0</td>\n",
       "      <td>0</td>\n",
       "      <td>0</td>\n",
       "      <td>0</td>\n",
       "      <td>1</td>\n",
       "    </tr>\n",
       "  </tbody>\n",
       "</table>\n",
       "</div>"
      ],
      "text/plain": [
       "   ID  Age  Experience  Income  ZIP Code  Family  CCAvg  Education  Mortgage  \\\n",
       "0   1   25           1      49     91107       4    1.6          1         0   \n",
       "1   2   45          19      34     90089       3    1.5          1         0   \n",
       "2   3   39          15      11     94720       1    1.0          1         0   \n",
       "3   4   35           9     100     94112       1    2.7          2         0   \n",
       "4   5   35           8      45     91330       4    1.0          2         0   \n",
       "\n",
       "   Personal Loan  Securities Account  CD Account  Online  CreditCard  \n",
       "0              0                   1           0       0           0  \n",
       "1              0                   1           0       0           0  \n",
       "2              0                   0           0       0           0  \n",
       "3              0                   0           0       0           0  \n",
       "4              0                   0           0       0           1  "
      ]
     },
     "execution_count": 1,
     "metadata": {},
     "output_type": "execute_result"
    }
   ],
   "source": [
    "import pandas as pd\n",
    "import numpy as np\n",
    "data = pd.read_csv(\"Bank_Personal_Loan_Modelling.csv\")\n",
    "\n",
    "data.head()"
   ]
  },
  {
   "cell_type": "code",
   "execution_count": 2,
   "id": "8e269344",
   "metadata": {},
   "outputs": [],
   "source": [
    "data = data.drop(columns = [\"ID\",\"ZIP Code\"])"
   ]
  },
  {
   "cell_type": "code",
   "execution_count": 3,
   "id": "6efff625",
   "metadata": {},
   "outputs": [],
   "source": [
    "X = data.drop(\"Personal Loan\",axis=1)\n",
    "y = data[\"Personal Loan\"]\n",
    "\n",
    "from sklearn.model_selection import train_test_split\n",
    "from sklearn.preprocessing import StandardScaler\n",
    "\n",
    "sc = StandardScaler()\n",
    "\n",
    "X_train,X_test,y_train,y_test = train_test_split(X,y,test_size=0.3,random_state=0)"
   ]
  },
  {
   "cell_type": "code",
   "execution_count": 4,
   "id": "b98288d4",
   "metadata": {},
   "outputs": [],
   "source": [
    "X_train = sc.fit_transform(X_train)\n",
    "X_test = sc.transform(X_test)"
   ]
  },
  {
   "cell_type": "code",
   "execution_count": 5,
   "id": "4345ab49",
   "metadata": {},
   "outputs": [
    {
     "name": "stderr",
     "output_type": "stream",
     "text": [
      "C:\\Users\\Srivatsan\\anaconda3\\lib\\site-packages\\keras\\optimizers\\optimizer_v2\\adam.py:117: UserWarning: The `lr` argument is deprecated, use `learning_rate` instead.\n",
      "  super().__init__(name, **kwargs)\n"
     ]
    }
   ],
   "source": [
    "import keras\n",
    "from keras.models import Sequential\n",
    "from keras.layers import Dense\n",
    "\n",
    "from keras.optimizers import Adam\n",
    "\n",
    "optimizer = Adam(lr=0.01)\n",
    "loss = 'binary_crossentropy'\n",
    "\n",
    "model = Sequential()\n",
    "model.add(Dense(units=6, activation='relu', input_dim=X_train.shape[1]))\n",
    "model.add(Dense(units=1, activation='sigmoid'))"
   ]
  },
  {
   "cell_type": "code",
   "execution_count": 6,
   "id": "d54a882d",
   "metadata": {},
   "outputs": [],
   "source": [
    "model.compile(optimizer=optimizer, loss=loss)"
   ]
  },
  {
   "cell_type": "code",
   "execution_count": 7,
   "id": "53f28dae",
   "metadata": {
    "scrolled": true
   },
   "outputs": [
    {
     "name": "stdout",
     "output_type": "stream",
     "text": [
      "Epoch 1/50\n",
      "110/110 [==============================] - 0s 1ms/step - loss: 0.3140\n",
      "Epoch 2/50\n",
      "110/110 [==============================] - 0s 993us/step - loss: 0.1203\n",
      "Epoch 3/50\n",
      "110/110 [==============================] - 0s 1ms/step - loss: 0.0905\n",
      "Epoch 4/50\n",
      "110/110 [==============================] - 0s 960us/step - loss: 0.0813\n",
      "Epoch 5/50\n",
      "110/110 [==============================] - 0s 959us/step - loss: 0.0748\n",
      "Epoch 6/50\n",
      "110/110 [==============================] - 0s 1ms/step - loss: 0.0714\n",
      "Epoch 7/50\n",
      "110/110 [==============================] - 0s 988us/step - loss: 0.0686\n",
      "Epoch 8/50\n",
      "110/110 [==============================] - 0s 951us/step - loss: 0.0657\n",
      "Epoch 9/50\n",
      "110/110 [==============================] - 0s 907us/step - loss: 0.0641\n",
      "Epoch 10/50\n",
      "110/110 [==============================] - 0s 1ms/step - loss: 0.0641\n",
      "Epoch 11/50\n",
      "110/110 [==============================] - 0s 1ms/step - loss: 0.0598\n",
      "Epoch 12/50\n",
      "110/110 [==============================] - 0s 964us/step - loss: 0.0590\n",
      "Epoch 13/50\n",
      "110/110 [==============================] - 0s 2ms/step - loss: 0.0590\n",
      "Epoch 14/50\n",
      "110/110 [==============================] - 0s 1ms/step - loss: 0.0567\n",
      "Epoch 15/50\n",
      "110/110 [==============================] - 0s 1ms/step - loss: 0.0563\n",
      "Epoch 16/50\n",
      "110/110 [==============================] - 0s 1ms/step - loss: 0.0553\n",
      "Epoch 17/50\n",
      "110/110 [==============================] - 0s 1ms/step - loss: 0.0537\n",
      "Epoch 18/50\n",
      "110/110 [==============================] - 0s 1ms/step - loss: 0.0546\n",
      "Epoch 19/50\n",
      "110/110 [==============================] - 0s 1ms/step - loss: 0.0544\n",
      "Epoch 20/50\n",
      "110/110 [==============================] - 0s 1ms/step - loss: 0.0535\n",
      "Epoch 21/50\n",
      "110/110 [==============================] - 0s 1ms/step - loss: 0.0527\n",
      "Epoch 22/50\n",
      "110/110 [==============================] - 0s 1ms/step - loss: 0.0522\n",
      "Epoch 23/50\n",
      "110/110 [==============================] - 0s 1ms/step - loss: 0.0512\n",
      "Epoch 24/50\n",
      "110/110 [==============================] - 0s 1ms/step - loss: 0.0511\n",
      "Epoch 25/50\n",
      "110/110 [==============================] - 0s 1ms/step - loss: 0.0507\n",
      "Epoch 26/50\n",
      "110/110 [==============================] - 0s 1ms/step - loss: 0.0537\n",
      "Epoch 27/50\n",
      "110/110 [==============================] - 0s 954us/step - loss: 0.0516\n",
      "Epoch 28/50\n",
      "110/110 [==============================] - 0s 972us/step - loss: 0.0499\n",
      "Epoch 29/50\n",
      "110/110 [==============================] - 0s 957us/step - loss: 0.0510\n",
      "Epoch 30/50\n",
      "110/110 [==============================] - 0s 1ms/step - loss: 0.0492\n",
      "Epoch 31/50\n",
      "110/110 [==============================] - 0s 1ms/step - loss: 0.0504\n",
      "Epoch 32/50\n",
      "110/110 [==============================] - 0s 1ms/step - loss: 0.0498\n",
      "Epoch 33/50\n",
      "110/110 [==============================] - 0s 1ms/step - loss: 0.0493\n",
      "Epoch 34/50\n",
      "110/110 [==============================] - 0s 1ms/step - loss: 0.0494\n",
      "Epoch 35/50\n",
      "110/110 [==============================] - 0s 896us/step - loss: 0.0501\n",
      "Epoch 36/50\n",
      "110/110 [==============================] - 0s 913us/step - loss: 0.0504\n",
      "Epoch 37/50\n",
      "110/110 [==============================] - 0s 1ms/step - loss: 0.0491\n",
      "Epoch 38/50\n",
      "110/110 [==============================] - 0s 1ms/step - loss: 0.0483\n",
      "Epoch 39/50\n",
      "110/110 [==============================] - 0s 1ms/step - loss: 0.0497\n",
      "Epoch 40/50\n",
      "110/110 [==============================] - 0s 1ms/step - loss: 0.0489\n",
      "Epoch 41/50\n",
      "110/110 [==============================] - 0s 1ms/step - loss: 0.0479\n",
      "Epoch 42/50\n",
      "110/110 [==============================] - 0s 1ms/step - loss: 0.0494\n",
      "Epoch 43/50\n",
      "110/110 [==============================] - 0s 1ms/step - loss: 0.0517\n",
      "Epoch 44/50\n",
      "110/110 [==============================] - 0s 1ms/step - loss: 0.0491\n",
      "Epoch 45/50\n",
      "110/110 [==============================] - 0s 1ms/step - loss: 0.0497\n",
      "Epoch 46/50\n",
      "110/110 [==============================] - 0s 1ms/step - loss: 0.0476\n",
      "Epoch 47/50\n",
      "110/110 [==============================] - 0s 1ms/step - loss: 0.0486\n",
      "Epoch 48/50\n",
      "110/110 [==============================] - 0s 1ms/step - loss: 0.0478\n",
      "Epoch 49/50\n",
      "110/110 [==============================] - 0s 1ms/step - loss: 0.0487\n",
      "Epoch 50/50\n",
      "110/110 [==============================] - 0s 1ms/step - loss: 0.0490\n"
     ]
    },
    {
     "data": {
      "text/plain": [
       "<keras.callbacks.History at 0x1cd876319a0>"
      ]
     },
     "execution_count": 7,
     "metadata": {},
     "output_type": "execute_result"
    }
   ],
   "source": [
    "model.fit(X_train,y_train,epochs=50)"
   ]
  },
  {
   "cell_type": "code",
   "execution_count": 8,
   "id": "0e2e61e6",
   "metadata": {},
   "outputs": [
    {
     "name": "stdout",
     "output_type": "stream",
     "text": [
      "47/47 [==============================] - 0s 1ms/step\n"
     ]
    },
    {
     "data": {
      "text/plain": [
       "array([[4.9423879e-06],\n",
       "       [9.5687900e-04],\n",
       "       [4.5222491e-06],\n",
       "       ...,\n",
       "       [3.2077016e-05],\n",
       "       [1.9925033e-06],\n",
       "       [1.1831755e-02]], dtype=float32)"
      ]
     },
     "execution_count": 8,
     "metadata": {},
     "output_type": "execute_result"
    }
   ],
   "source": [
    "y_pred = model.predict(X_test)\n",
    "y_pred"
   ]
  },
  {
   "cell_type": "code",
   "execution_count": 9,
   "id": "2f485929",
   "metadata": {},
   "outputs": [
    {
     "data": {
      "text/plain": [
       "array([[False],\n",
       "       [False],\n",
       "       [False],\n",
       "       ...,\n",
       "       [False],\n",
       "       [False],\n",
       "       [False]])"
      ]
     },
     "execution_count": 9,
     "metadata": {},
     "output_type": "execute_result"
    }
   ],
   "source": [
    "y_pred = (y_pred>0.5)"
   ]
  },
  {
   "cell_type": "code",
   "execution_count": 10,
   "id": "1a43de58",
   "metadata": {},
   "outputs": [
    {
     "data": {
      "text/plain": [
       "0.9786666666666667"
      ]
     },
     "execution_count": 10,
     "metadata": {},
     "output_type": "execute_result"
    }
   ],
   "source": [
    "from sklearn.metrics import accuracy_score\n",
    "accuracy_score(y_pred,y_test)"
   ]
  }
 ],
 "metadata": {
  "kernelspec": {
   "display_name": "Python 3 (ipykernel)",
   "language": "python",
   "name": "python3"
  },
  "language_info": {
   "codemirror_mode": {
    "name": "ipython",
    "version": 3
   },
   "file_extension": ".py",
   "mimetype": "text/x-python",
   "name": "python",
   "nbconvert_exporter": "python",
   "pygments_lexer": "ipython3",
   "version": "3.9.13"
  }
 },
 "nbformat": 4,
 "nbformat_minor": 5
}
